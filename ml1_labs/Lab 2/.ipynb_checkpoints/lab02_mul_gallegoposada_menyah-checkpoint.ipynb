{
 "cells": [
  {
   "cell_type": "markdown",
   "metadata": {},
   "source": [
    "# Lab 2: Classification\n",
    "\n",
    "### Machine Learning 1, September 2016\n",
    "\n",
    "* The lab exercises should be made in groups of two people.\n",
    "* The deadline is October 9th (Sunday) 23:59.\n",
    "* Assignment should be sent to your teaching assistant. The subject line of your email should be \"lab\\#\\_lastname1\\_lastname2\\_lastname3\".\n",
    "* Put your and your teammates' names in the body of the email.\n",
    "* Attach the .IPYNB (IPython Notebook) file containing your code and answers. Naming of the file follows the same rule as the subject line. For example, if the subject line is \"lab01\\_Kingma\\_Hu\", the attached file should be \"lab01\\_Kingma\\_Hu.ipynb\". Only use underscores (\"\\_\") to connect names, otherwise the files cannot be parsed.\n",
    "\n",
    "Notes on implementation:\n",
    "\n",
    "* For this notebook you need to answer a few theory questions, add them in the Markdown cell's below the question. Note: you can use Latex-style code in here.\n",
    "* Focus on Part 1 the first week, and Part 2 the second week!\n",
    "* You should write your code and answers below the questions in this IPython Notebook.\n",
    "* Among the first lines of your notebook should be \"%pylab inline\". This imports all required modules, and your plots will appear inline.\n",
    "* If you have questions outside of the labs, post them on blackboard or email me.\n",
    "* NOTE: Make sure we can run your notebook / scripts!\n",
    "\n",
    "$\\newcommand{\\bx}{\\mathbf{x}}$\n",
    "$\\newcommand{\\bw}{\\mathbf{w}}$\n",
    "$\\newcommand{\\bt}{\\mathbf{t}}$\n",
    "$\\newcommand{\\by}{\\mathbf{y}}$\n",
    "$\\newcommand{\\bm}{\\mathbf{m}}$\n",
    "$\\newcommand{\\bb}{\\mathbf{b}}$\n",
    "$\\newcommand{\\bS}{\\mathbf{S}}$\n",
    "$\\newcommand{\\ba}{\\mathbf{a}}$\n",
    "$\\newcommand{\\bz}{\\mathbf{z}}$\n",
    "$\\newcommand{\\bv}{\\mathbf{v}}$\n",
    "$\\newcommand{\\bq}{\\mathbf{q}}$\n",
    "$\\newcommand{\\bp}{\\mathbf{p}}$\n",
    "$\\newcommand{\\bh}{\\mathbf{h}}$\n",
    "$\\newcommand{\\bI}{\\mathbf{I}}$\n",
    "$\\newcommand{\\bX}{\\mathbf{X}}$\n",
    "$\\newcommand{\\bT}{\\mathbf{T}}$\n",
    "$\\newcommand{\\bPhi}{\\mathbf{\\Phi}}$\n",
    "$\\newcommand{\\bW}{\\mathbf{W}}$\n",
    "$\\newcommand{\\bV}{\\mathbf{V}}$\n",
    "$\\newcommand{\\bA}{\\mathbf{A}}$\n",
    "$\\newcommand{\\bj}{\\mathbf{j}}$"
   ]
  },
  {
   "cell_type": "code",
   "execution_count": 1,
   "metadata": {
    "collapsed": false
   },
   "outputs": [
    {
     "name": "stdout",
     "output_type": "stream",
     "text": [
      "Populating the interactive namespace from numpy and matplotlib\n"
     ]
    }
   ],
   "source": [
    "%matplotlib inline\n",
    "%pylab inline\n",
    "import gzip, cPickle\n",
    "import numpy as np"
   ]
  },
  {
   "cell_type": "markdown",
   "metadata": {},
   "source": [
    "# Part 1. Multiclass logistic regression\n",
    "\n",
    "Scenario: you have a friend with one big problem: she's completely blind. You decided to help her: she has a special smartphone for blind people, and you are going to develop a mobile phone app that can do _machine vision_ using the mobile camera: converting a picture (from the camera) to the meaning of the image. You decide to start with an app that can read handwritten digits, i.e. convert an image of handwritten digits to text (e.g. it would enable her to read precious handwritten phone numbers).\n",
    "\n",
    "A key building block for such an app would be a function `predict_digit(x)` that returns the digit class of an image patch $\\bx$. Since hand-coding this function is highly non-trivial, you decide to solve this problem using machine learning, such that the internal parameters of this function are automatically learned using machine learning techniques.\n",
    "\n",
    "The dataset you're going to use for this is the MNIST handwritten digits dataset (`http://yann.lecun.com/exdb/mnist/`). You can load the data from `mnist.pkl.gz` we provided, using: "
   ]
  },
  {
   "cell_type": "code",
   "execution_count": 2,
   "metadata": {
    "collapsed": false
   },
   "outputs": [],
   "source": [
    "def load_mnist():\n",
    "    f = gzip.open('mnist.pkl.gz', 'rb')\n",
    "    data = cPickle.load(f)\n",
    "    f.close()\n",
    "    return data\n",
    "\n",
    "(x_train, t_train), (x_valid, t_valid), (x_test, t_test) = load_mnist()"
   ]
  },
  {
   "cell_type": "markdown",
   "metadata": {},
   "source": [
    "The tuples represent train, validation and test sets. The first element (`x_train`, `x_valid`, `x_test`) of each tuple is a $N \\times M$ matrix, where $N$ is the number of datapoints and $M = 28^2 = 784$ is the dimensionality of the data. The second element (`t_train`, `t_valid`, `t_test`) of each tuple is the corresponding $N$-dimensional vector of integers, containing the true class labels.\n",
    "\n",
    "Here's a visualisation of the first 8 digits of the trainingset:"
   ]
  },
  {
   "cell_type": "code",
   "execution_count": 3,
   "metadata": {
    "collapsed": false
   },
   "outputs": [
    {
     "data": {
      "image/png": "[encoded data removed]",
      "text/plain": [
       "<matplotlib.figure.Figure at 0x7f3ab67d4d10>"
      ]
     },
     "metadata": {},
     "output_type": "display_data"
    }
   ],
   "source": [
    "def plot_digits(data, numcols, shape=(28,28)):\n",
    "    numdigits = data.shape[0]\n",
    "    numrows = int(numdigits/numcols)\n",
    "    for i in range(numdigits):\n",
    "        plt.subplot(numrows, numcols, i+1)\n",
    "        plt.axis('off')\n",
    "        plt.imshow(data[i].reshape(shape), interpolation='nearest', cmap='Greys')\n",
    "    plt.show()\n",
    "    \n",
    "plot_digits(x_train[0:8], numcols=4)"
   ]
  },
  {
   "cell_type": "markdown",
   "metadata": {},
   "source": [
    "In _multiclass_ logistic regression, the conditional probability of class label $j$ given the image $\\bx$ for some datapoint is given by:\n",
    "\n",
    "$ \\log p(t = j \\;|\\; \\bx, \\bb, \\bW) = \\log q_j - \\log Z$\n",
    "\n",
    "where $\\log q_j = \\bw_j^T \\bx + b_j$ (the log of the unnormalized probability of the class $j$), and $Z = \\sum_k q_k$ is the normalizing factor. $\\bw_j$ is the $j$-th column of $\\bW$ (a matrix of size $784 \\times 10$) corresponding to the class label, $b_j$ is the $j$-th element of $\\bb$.\n",
    "\n",
    "Given an input image, the multiclass logistic regression model first computes the intermediate vector $\\log \\bq$ (of size $10 \\times 1$), using $\\log q_j = \\bw_j^T \\bx + b_j$, containing the unnormalized log-probabilities per class. \n",
    "\n",
    "The unnormalized probabilities are then normalized by $Z$ such that $\\sum_j p_j = \\sum_j \\exp(\\log p_j) = 1$. This is done by $\\log p_j = \\log q_j - \\log Z$ where $Z = \\sum_j \\exp(\\log q_j)$. This is known as the _softmax_ transformation, and is also used as a last layer of many classifcation neural network models, to ensure that the output of the network is a normalized distribution, regardless of the values of second-to-last layer ($\\log \\bq$)\n",
    "\n",
    "Warning: when computing $\\log Z$, you are likely to encounter numerical problems. Save yourself countless hours of debugging and learn the [log-sum-exp trick](https://hips.seas.harvard.edu/blog/2013/01/09/computing-log-sum-exp/ \"Title\").\n",
    "\n",
    "The network's output $\\log \\bp$ of size $10 \\times 1$ then contains the conditional log-probabilities $\\log p(t = j \\;|\\; \\bx, \\bb, \\bW)$ for each digit class $j$. In summary, the computations are done in this order:\n",
    "\n",
    "$\\bx \\rightarrow \\log \\bq \\rightarrow Z \\rightarrow \\log \\bp$\n",
    "\n",
    "Given some dataset with $N$ independent, identically distributed datapoints, the log-likelihood is given by:\n",
    "\n",
    "$ \\mathcal{L}(\\bb, \\bW) = \\sum_{n=1}^N \\mathcal{L}^{(n)}$\n",
    "\n",
    "where we use $\\mathcal{L}^{(n)}$ to denote the partial log-likelihood evaluated over a single datapoint. It is important to see that the log-probability of the class label $t^{(n)}$ given the image, is given by the $t^{(n)}$-th element of the network's output $\\log \\bp$, denoted by $\\log p_{t^{(n)}}$:\n",
    "\n",
    "$\\mathcal{L}^{(n)} = \\log p(t = t^{(n)} \\;|\\; \\bx = \\bx^{(n)}, \\bb, \\bW) = \\log p_{t^{(n)}} = \\log q_{t^{(n)}} - \\log Z^{(n)}$\n",
    "\n",
    "where $\\bx^{(n)}$ and $t^{(n)}$ are the input (image) and class label (integer) of the $n$-th datapoint, and $Z^{(n)}$ is the normalizing constant for the distribution over $t^{(n)}$.\n"
   ]
  },
  {
   "cell_type": "markdown",
   "metadata": {},
   "source": [
    "## 1.1 Gradient-based stochastic optimization\n",
    "\n",
    "### 1.1.1 Derive gradient equations (20 points)\n",
    "\n",
    "Derive the equations for computing the (first) partial derivatives of the log-likelihood w.r.t. all the parameters, evaluated at a _single_ datapoint $n$.\n",
    "\n",
    "You should start deriving the equations for $\\frac{\\partial \\mathcal{L}^{(n)}}{\\partial \\log q_j}$ for each $j$. For clarity, we'll use the shorthand $\\delta^q_j = \\frac{\\partial \\mathcal{L}^{(n)}}{\\partial \\log q_j}$.\n",
    "\n",
    "For $j = t^{(n)}$:\n",
    "$\n",
    "\\delta^q_j\n",
    "= \\frac{\\partial \\mathcal{L}^{(n)}}{\\partial \\log p_j}\n",
    "\\frac{\\partial \\log p_j}{\\partial \\log q_j}\n",
    "+ \\frac{\\partial \\mathcal{L}^{(n)}}{\\partial \\log Z}\n",
    "\\frac{\\partial \\log Z}{\\partial Z} \n",
    "\\frac{\\partial Z}{\\partial \\log q_j} \n",
    "= 1 \\cdot 1 - \\frac{\\partial \\log Z}{\\partial Z} \n",
    "\\frac{\\partial Z}{\\partial \\log q_j}\n",
    "= 1 - \\frac{\\partial \\log Z}{\\partial Z} \n",
    "\\frac{\\partial Z}{\\partial \\log q_j}\n",
    "$\n",
    "\n",
    "For $j \\neq t^{(n)}$:\n",
    "$\n",
    "\\delta^q_j\n",
    "= \\frac{\\partial \\mathcal{L}^{(n)}}{\\partial \\log Z}\n",
    "\\frac{\\partial \\log Z}{\\partial Z} \n",
    "\\frac{\\partial Z}{\\partial \\log q_j} \n",
    "= - \\frac{\\partial \\log Z}{\\partial Z} \n",
    "\\frac{\\partial Z}{\\partial \\log q_j}\n",
    "$\n",
    "\n",
    "Complete the above derivations for $\\delta^q_j$ by furtherly developing $\\frac{\\partial \\log Z}{\\partial Z}$ and $\\frac{\\partial Z}{\\partial \\log q_j}$. Both are quite simple. For these it doesn't matter whether $j = t^{(n)}$ or not.\n",
    "\n",
    "Given your equations for computing the gradients $\\delta^q_j$ it should be quite straightforward to derive the equations for the gradients of the parameters of the model, $\\frac{\\partial \\mathcal{L}^{(n)}}{\\partial W_{ij}}$ and $\\frac{\\partial \\mathcal{L}^{(n)}}{\\partial b_j}$. The gradients for the biases $\\bb$ are given by:\n",
    "\n",
    "$\n",
    "\\frac{\\partial \\mathcal{L}^{(n)}}{\\partial b_j}\n",
    "= \\frac{\\partial \\mathcal{L}^{(n)}}{\\partial \\log q_j}\n",
    "\\frac{\\partial \\log q_j}{\\partial b_j}\n",
    "= \\delta^q_j\n",
    "\\cdot 1\n",
    "= \\delta^q_j\n",
    "$\n",
    "\n",
    "The equation above gives the derivative of $\\mathcal{L}^{(n)}$ w.r.t. a single element of $\\bb$, so the vector $\\nabla_\\bb \\mathcal{L}^{(n)}$ with all derivatives of $\\mathcal{L}^{(n)}$ w.r.t. the bias parameters $\\bb$ is: \n",
    "\n",
    "$\n",
    "\\nabla_\\bb \\mathcal{L}^{(n)} = \\mathbf{\\delta}^q\n",
    "$\n",
    "\n",
    "where $\\mathbf{\\delta}^q$ denotes the vector of size $10 \\times 1$ with elements $\\mathbf{\\delta}_j^q$.\n",
    "\n",
    "The (not fully developed) equation for computing the derivative of $\\mathcal{L}^{(n)}$ w.r.t. a single element $W_{ij}$ of $\\bW$ is:\n",
    "\n",
    "$\n",
    "\\frac{\\partial \\mathcal{L}^{(n)}}{\\partial W_{ij}} =\n",
    "\\frac{\\partial \\mathcal{L}^{(n)}}{\\partial \\log q_j}\n",
    "\\frac{\\partial \\log q_j}{\\partial W_{ij}}\n",
    "= \\mathbf{\\delta}_j^q\n",
    "\\frac{\\partial \\log q_j}{\\partial W_{ij}}\n",
    "$\n",
    "\n",
    "What is $\\frac{\\partial \\log q_j}{\\partial W_{ij}}$? Complete the equation above.\n",
    "\n",
    "If you want, you can give the resulting equation in vector format ($\\nabla_{\\bw_j} \\mathcal{L}^{(n)} = ...$), like we did for $\\nabla_\\bb \\mathcal{L}^{(n)}$"
   ]
  },
  {
   "cell_type": "markdown",
   "metadata": {},
   "source": [
    "#### Answer:\n",
    "\n",
    "---\n",
    "\n",
    "First, $\\frac{\\partial \\log Z}{\\partial Z} = \\frac{1}{Z}$.\n",
    "\n",
    "Recall $Z = \\sum_j \\exp(\\log q_j)$. Then, $\\frac{\\partial Z}{\\partial \\log q_j} = \\exp(\\log q_j) = q_j$.\n",
    "\n",
    "Finally, $\\delta^q_j = \\mathbb{I}_{j,t^{(n)}} - \\frac{\\partial \\log Z}{\\partial Z} \n",
    "\\frac{\\partial Z}{\\partial \\log q_j} = \\mathbb{I}_{j,t^{(n)}} - \\frac{q_j}{Z}$. Where $\\mathbb{I}$ is the identity matrix.\n",
    "\n",
    "---\n",
    "\n",
    "$\\frac{\\partial \\log q_j}{\\partial \\bW_j} = \\frac{\\partial \\bw_j^T \\bx +\\bb_j}{\\partial \\bW_j} = \\bx \\rightarrow \\frac{\\partial \\log q_j}{\\partial \\bW_{ij}} = \\bx_i$\n",
    "\n",
    "$\\nabla_{\\bw_j} \\mathcal{L}^{(n)} = \\mathbf{\\delta}_j^q \\bx \\rightarrow \\nabla_{\\bW} \\mathcal{L}^{(n)} = \\bx {\\mathbf{\\delta}^q}^T$\n",
    "\n",
    "---"
   ]
  },
  {
   "cell_type": "markdown",
   "metadata": {},
   "source": [
    "### 1.1.2 Implement gradient computations (10 points)\n",
    "\n",
    "Implement the gradient calculations you derived in the previous question. Write a function `logreg_gradient(x, t, w, b)` that returns the gradients $\\nabla_{\\bw_j} \\mathcal{L}^{(n)}$ (for each $j$) and $\\nabla_{\\bb} \\mathcal{L}^{(n)}$, i.e. the first partial derivatives of the log-likelihood w.r.t. the parameters $\\bW$ and $\\bb$, evaluated at a single datapoint (`x`, `t`).\n",
    "The computation will contain roughly the following intermediate variables:\n",
    "\n",
    "$\n",
    "\\log \\bq \\rightarrow Z \\rightarrow \\log \\bp\\,,\\, \\mathbf{\\delta}^q\n",
    "$\n",
    "\n",
    "followed by computation of the gradient vectors $\\nabla_{\\bw_j} \\mathcal{L}^{(n)}$ (contained in a $784 \\times 10$ matrix) and $\\nabla_{\\bb} \\mathcal{L}^{(n)}$ (a $10 \\times 1$ vector).\n"
   ]
  },
  {
   "cell_type": "code",
   "execution_count": 4,
   "metadata": {
    "collapsed": false
   },
   "outputs": [],
   "source": [
    "def logreg_gradient(x,t,W,b):\n",
    "    lq = dot(W.T,x) + b\n",
    "    Z = sum(np.exp(lq))\n",
    "    \n",
    "    delta_q = - exp(lq)/Z\n",
    "    delta_q[t] += 1\n",
    "    \n",
    "    grad_b = delta_q\n",
    "    grad_W = dot(x,delta_q.T)\n",
    "    \n",
    "    return grad_W, grad_b"
   ]
  },
  {
   "cell_type": "markdown",
   "metadata": {},
   "source": [
    "\n",
    "### 1.1.3 Stochastic gradient descent (10 points)\n",
    "\n",
    "Write a function `sgd_iter(x_train, t_train, w, b)` that performs one iteration of stochastic gradient descent (SGD), and returns the new weights. It should go through the trainingset once in randomized order, call `logreg_gradient(x, t, w, b)` for each datapoint to get the gradients, and update the parameters using a small learning rate (e.g. `1E-4`). Note that in this case we're maximizing the likelihood function, so we should actually performing gradient ___ascent___... For more information about SGD, see Bishop 5.2.4 or an online source (i.e. https://en.wikipedia.org/wiki/Stochastic_gradient_descent)"
   ]
  },
  {
   "cell_type": "code",
   "execution_count": 5,
   "metadata": {
    "collapsed": false
   },
   "outputs": [],
   "source": [
    "def sgd_iter(x_train, t_train, W, b):\n",
    "    N, M = shape(x_train)\n",
    "    perm = np.random.permutation(N)\n",
    "    eta = 0.0001\n",
    "    for ix in perm:\n",
    "        x = reshape(x_train[ix],(M,-1))\n",
    "        t = t_train[ix]\n",
    "        grad_W, grad_b = logreg_gradient(x,t,W,b)\n",
    "        W += eta * grad_W\n",
    "        b += eta * grad_b\n",
    "    return W, b"
   ]
  },
  {
   "cell_type": "markdown",
   "metadata": {},
   "source": [
    "## 1.2. Train\n",
    "\n",
    "### 1.2.1 Train (10 points)\n",
    "Perform a handful of training iterations through the trainingset. Plot (in one graph) the conditional log-probability of the trainingset and validation set after each iteration.\n"
   ]
  },
  {
   "cell_type": "code",
   "execution_count": 14,
   "metadata": {
    "collapsed": false,
    "scrolled": true
   },
   "outputs": [
    {
     "data": {
      "image/png": "[encoded data removed]",
      "text/plain": [
       "<matplotlib.figure.Figure at 0x7f3ab574ab10>"
      ]
     },
     "metadata": {},
     "output_type": "display_data"
    },
    {
     "data": {
      "image/png": "[encoded data removed]",
      "text/plain": [
       "<matplotlib.figure.Figure at 0x7f3ab6369e50>"
      ]
     },
     "metadata": {},
     "output_type": "display_data"
    }
   ],
   "source": [
    "def logreg(x,t,W,b):\n",
    "    lq = dot(W.T,x) + b\n",
    "    Z = sum(np.exp(lq))\n",
    "    a = max(lq)\n",
    "    lZ = a  + log(sum(np.exp(lq - ones(shape(lq))*a)))\n",
    "    lp = lq - ones(shape(lq))*log(Z)\n",
    "    lpt = lp[t]\n",
    "    return lpt, argmax(lp)\n",
    "\n",
    "def pred_iter(x_set, t_set, W, b):\n",
    "    N_set, M = shape(x_set)\n",
    "    L = 0\n",
    "    misclass = 0\n",
    "    for ix in range(N_set):\n",
    "        x = reshape(x_set[ix],(M,-1))\n",
    "        t = t_set[ix]\n",
    "        lpt, lpix = logreg(x,t,W,b)\n",
    "        L += lpt\n",
    "        misclass += lpix != t\n",
    "    return L, misclass*1.0/N_set\n",
    "\n",
    "\n",
    "N_tr, M = shape(x_train)\n",
    "N_vl, M = shape(x_test)\n",
    "\n",
    "K = 10\n",
    "max_iter = 10\n",
    "\n",
    "W = np.zeros((M,K))\n",
    "b = np.zeros((K, 1))\n",
    "\n",
    "L_tr = []\n",
    "E_tr = []\n",
    "L_vl = []\n",
    "E_vl = []\n",
    "\n",
    "L, err = pred_iter(x_train, t_train, W, b)\n",
    "L_tr.append(L)\n",
    "E_tr.append(100*err)\n",
    "L, err = pred_iter(x_valid, t_valid, W, b)\n",
    "L_vl.append(L)\n",
    "E_vl.append(100*err)\n",
    "    \n",
    "for it in range(max_iter):\n",
    "    #To visualize weights after each iteration uncomment the following line\n",
    "    #plot_digits(W.T, numcols=10)\n",
    "    W, b = sgd_iter(x_train, t_train, W, b)\n",
    "    L, err = pred_iter(x_train, t_train, W, b)\n",
    "    L_tr.append(L)\n",
    "    E_tr.append(100*err)\n",
    "    L, err = pred_iter(x_valid, t_valid, W, b)\n",
    "    L_vl.append(L)\n",
    "    E_vl.append(100*err)\n",
    "    \n",
    "plot(range(max_iter + 1), E_tr, label='Training')\n",
    "plot(range(max_iter + 1), E_vl, label='Validation')\n",
    "xlabel('Iteration')\n",
    "ylabel('Error (%)')\n",
    "legend(loc=1,ncol=1)\n",
    "show()\n",
    "\n",
    "plot(range(max_iter + 1), L_tr, label='Training')\n",
    "plot(range(max_iter + 1), L_vl, label='Validation')\n",
    "xlabel('Iteration')\n",
    "ylabel('Log-Likelihood')\n",
    "legend(loc=4,ncol=1)\n",
    "show()\n"
   ]
  },
  {
   "cell_type": "markdown",
   "metadata": {},
   "source": [
    "### 1.2.2 Visualize weights (10 points)\n",
    "Visualize the resulting parameters $\\bW$ after a few iterations through the training set, by treating each column of $\\bW$ as an image. If you want, you can use or edit the `plot_digits(...)` above."
   ]
  },
  {
   "cell_type": "code",
   "execution_count": 15,
   "metadata": {
    "collapsed": false
   },
   "outputs": [
    {
     "data": {
      "image/png": "[encoded data removed]",
      "text/plain": [
       "<matplotlib.figure.Figure at 0x7f3ab6036850>"
      ]
     },
     "metadata": {},
     "output_type": "display_data"
    }
   ],
   "source": [
    "# Final weights\n",
    "plot_digits(W.T, numcols=5)"
   ]
  },
  {
   "cell_type": "markdown",
   "metadata": {},
   "source": [
    "### 1.2.3. Visualize the 8 hardest and 8 easiest digits (10 points)\n",
    "Visualize the 8 digits in the validation set with the highest probability of the true class label under the model.\n",
    "Also plot the 8 digits that were assigned the lowest probability.\n",
    "Ask yourself if these results make sense."
   ]
  },
  {
   "cell_type": "code",
   "execution_count": 16,
   "metadata": {
    "collapsed": false
   },
   "outputs": [
    {
     "name": "stdout",
     "output_type": "stream",
     "text": [
      "Hardest 8 Examples\n"
     ]
    },
    {
     "data": {
      "image/png": "[encoded data removed]",
      "text/plain": [
       "<matplotlib.figure.Figure at 0x7f3ab5771c50>"
      ]
     },
     "metadata": {},
     "output_type": "display_data"
    },
    {
     "name": "stdout",
     "output_type": "stream",
     "text": [
      "Easiest 8 Examples\n"
     ]
    },
    {
     "data": {
      "image/png": "[encoded data removed]",
      "text/plain": [
       "<matplotlib.figure.Figure at 0x7f3ab5979ed0>"
      ]
     },
     "metadata": {},
     "output_type": "display_data"
    }
   ],
   "source": [
    "P = []\n",
    "for ix in range(N_vl):\n",
    "    x = reshape(x_valid[ix],(M,-1))\n",
    "    t = t_valid[ix]\n",
    "    lpt, lpix = logreg(x,t,W,b)    \n",
    "    P.append(lpt[0])\n",
    "\n",
    "P = np.array(P)\n",
    "ix_hard = P.argsort()[:8]\n",
    "ix_easy = P.argsort()[-8:]\n",
    "\n",
    "print ('Hardest 8 Examples')\n",
    "plot_digits(x_valid[ix_hard], numcols=4)\n",
    "\n",
    "\n",
    "print ('Easiest 8 Examples')\n",
    "plot_digits(x_valid[ix_easy], numcols=4)\n"
   ]
  },
  {
   "cell_type": "markdown",
   "metadata": {},
   "source": [
    "# Part 2. Multilayer perceptron\n",
    "\n",
    "\n",
    "You discover that the predictions by the logistic regression classifier are not good enough for your application: the model is too simple. You want to increase the accuracy of your predictions by using a better model. For this purpose, you're going to use a multilayer perceptron (MLP), a simple kind of neural network. The perceptron wil have a single hidden layer $\\bh$ with $L$ elements. The parameters of the model are $\\bV$ (connections between input $\\bx$ and hidden layer $\\bh$), $\\ba$ (the biases/intercepts of $\\bh$), $\\bW$ (connections between $\\bh$ and $\\log q$) and $\\bb$ (the biases/intercepts of $\\log q$.\n",
    "\n",
    "The conditional probability of the class label $j$ is given by:\n",
    "\n",
    "$\\log p(t = j \\;|\\; \\bx, \\bb, \\bW) = \\log q_j - \\log Z$\n",
    "\n",
    "where $q_j$ are again the unnormalized probabilities per class, and $Z = \\sum_j q_j$ is again the probability normalizing factor. Each $q_j$ is computed using:\n",
    "\n",
    "$\\log q_j = \\bw_j^T \\bh + b_j$\n",
    "\n",
    "where $\\bh$ is a $L \\times 1$ vector with the hidden layer activations (of a hidden layer with size $L$), and $\\bw_j$ is the $j$-th column of $\\bW$ (a $L \\times 10$ matrix). Each element of the hidden layer is computed from the input vector $\\bx$ using:\n",
    "\n",
    "$h_j = \\sigma(\\bv_j^T \\bx + a_j)$\n",
    "\n",
    "where $\\bv_j$ is the $j$-th column of $\\bV$ (a $784 \\times L$ matrix), $a_j$ is the $j$-th element of $\\ba$, and $\\sigma(.)$ is the so-called sigmoid activation function, defined by:\n",
    "\n",
    "$\\sigma(x) = \\frac{1}{1 + \\exp(-x)}$\n",
    "\n",
    "Note that this model is almost equal to the multiclass logistic regression model, but with an extra 'hidden layer' $\\bh$. The activations of this hidden layer can be viewed as features computed from the input, where the feature transformation ($\\bV$ and $\\ba$) is learned.\n",
    "\n",
    "## 2.1 Derive gradient equations (20 points)\n",
    "\n",
    "State (shortly) why $\\nabla_{\\bb} \\mathcal{L}^{(n)}$ is equal to the earlier (multiclass logistic regression) case, and why $\\nabla_{\\bw_j} \\mathcal{L}^{(n)}$ is almost equal to the earlier case.\n",
    "\n",
    "Like in multiclass logistic regression, you should use intermediate variables $\\mathbf{\\delta}_j^q$. In addition, you should use intermediate variables $\\mathbf{\\delta}_j^h = \\frac{\\partial \\mathcal{L}^{(n)}}{\\partial h_j}$.\n",
    "\n",
    "Given an input image, roughly the following intermediate variables should be computed:\n",
    "\n",
    "$\n",
    "\\log \\bq \\rightarrow Z \\rightarrow \\log \\bp \\rightarrow \\mathbf{\\delta}^q \\rightarrow \\mathbf{\\delta}^h\n",
    "$\n",
    "\n",
    "where $\\mathbf{\\delta}_j^h = \\frac{\\partial \\mathcal{L}^{(n)}}{\\partial \\bh_j}$.\n",
    "\n",
    "Give the equations for computing $\\mathbf{\\delta}^h$, and for computing the derivatives of $\\mathcal{L}^{(n)}$ w.r.t. $\\bW$, $\\bb$, $\\bV$ and $\\ba$. \n",
    "\n",
    "You can use the convenient fact that $\\frac{\\partial}{\\partial x} \\sigma(x) = \\sigma(x) (1 - \\sigma(x))$."
   ]
  },
  {
   "cell_type": "markdown",
   "metadata": {},
   "source": [
    "#### Answer:\n",
    "\n",
    "We are given the following matrices (vectors) with their corresponding dimensions: $\\bW_{L\\times K}$, $\\bV_{M \\times L}$, $\\bx_{M\\times 1}$, $\\bh_{L\\times 1}$,  $\\bb_{K\\times 1}$, $\\ba_{L\\times 1}$. The notation $\\bA_{i\\cdot}$ and $\\bA_{\\cdot j }$  represent the $i$-th row and $j$-th column of the matrix $\\bA$, respectively. Let $\\bj$ denote a $L$ dimensional column vector of ones and $\\bA \\odot \\mathbf{B}$ the Hadamard product between $\\bA$ and $\\mathbf{B}$ of dimensions $m\\times n$.\n",
    "\n",
    "In this case, the model is summarized by the following equations:\n",
    "  * $\\bh = \\sigma( \\bV^T \\bx + \\ba)$\n",
    "  * $\\log \\bq = \\bW^T \\bh + \\bb$\n",
    "  * $\\log q_k = \\bW_{\\cdot k}^T \\bh + \\bb_k$\n",
    "  * $ Z = \\sum_k q_k = \\sum_k \\log(\\exp(q_k))$\n",
    "\n",
    "---\n",
    "\n",
    "Note that $\\nabla_{\\bb} \\mathcal{L}^{(n)} = \\frac{\\partial \\mathcal{L}^{(n)}}{\\partial \\log q_j} \\frac{\\partial \\log q_j}{\\partial b_j} = \\mathbf{\\delta}_j^q \\cdot 1 = \\mathbf{\\delta}_j^q$. Therefore, it is the same as in the previous case.\n",
    "\n",
    "$$\\nabla_{\\bb} \\mathcal{L}^{(n)} = \\mathbf{\\delta}^q = \\mathbb{I}_{\\cdot t^{(n)}} - \\frac{1}{Z} \\bq$$\n",
    "\n",
    "Besides, $\\nabla_{\\bW_{\\cdot j}} \\mathcal{L}^{(n)} = \\frac{\\partial \\mathcal{L}^{(n)}}{\\partial \\log q_j} \\frac{\\partial \\log q_j}{\\partial \\bW_{\\cdot j}} = \\mathbf{\\delta}_j^q \\frac{\\partial \\bW_{\\cdot j}^T \\bh + b_j}{\\partial \\bW_{\\cdot j}} = \\mathbf{\\delta}_j^q \\bh$. Thus, this is almost the same as the previous case, replacing $\\bx$ by the new input of the logistic regression $\\bh$.\n",
    "\n",
    "$$\\nabla_{\\bW} \\mathcal{L}^{(n)} = \\bh{\\mathbf{\\delta}^q}^T$$\n",
    "\n",
    "---\n",
    "\n",
    "$ \\mathbf{\\delta}^h = \\nabla_{\\bh} \\mathcal{L}^{(n)} = \\frac{\\partial \\log q_{t^{(n)}}}{\\partial \\bh} - \\frac{\\partial \\log Z}{\\partial \\bh} = \\frac{\\partial \\bW_{\\cdot{t^{(n)}}}^T \\bh + \\bb_{t^{(n)}} }{\\partial \\bh} - \\frac{\\partial \\log \\sum_k exp(\\bW_{\\cdot k }^T \\bh + \\bb_k)}{\\partial \\bh} = \\bW_{\\cdot{t^{(n)}}} - \\frac{1}{\\sum_k exp(\\bW_{\\cdot k }^T \\bh + \\bb_k)} \\frac{\\partial \\sum_k exp(\\bW_{\\cdot k}^T \\bh + \\bb_k)}{\\partial \\bh}$\n",
    "$ \\hspace{5mm} = \\bW_{\\cdot{t^{(n)}}} - \\frac{1}{\\sum_k exp(\\bW_{\\cdot k }^T \\bh + \\bb_k)} \\sum_k exp(\\bW_{\\cdot k }^T \\bh + \\bb_k) \\bW_{\\cdot k} = \\bW_{\\cdot{t^{(n)}}} - \\sum_k \\frac{q_k}{Z} \\bW_{\\cdot k} = \\sum_k (\\mathbb{I}_{k,t^{(n)}} - \\frac{q_k}{Z}) \\bW_{\\cdot k} = \\bW (\\mathbb{I}_{\\cdot t^{(n)}} - \\frac{1}{Z} \\bq)$\n",
    "\n",
    "$$ \\mathbf{\\delta}^h = \\bW \\mathbf{\\delta}^q$$\n",
    "\n",
    "---\n",
    "\n",
    "Note that $\\frac { \\partial \\bh_l}{ \\partial \\bV_{ ij } } = \\bh_l (1-\\bh_l) \\frac{\\partial \\bV_{\\cdot l}^T \\bx + \\ba_l}{\\partial \\bV_{ij}} = \\bh_l (1-\\bh_l) \\frac{\\partial \\sum_k \\bV_{kl} \\bx_k + \\ba_l}{\\partial \\bV_{ij}} = \\begin{cases} \\bh_l (1-\\bh_l) \\bx_k \\hspace{5mm} \\text{if} \\hspace{2mm} j=l \\hspace{2mm} \\text{and} \\hspace{2mm} k=i\\\\ 0 \\hspace{5mm} \\text{else}\\end{cases} $\n",
    "\n",
    "$\\frac{\\partial \\mathcal{L}^{(n)}}{\\partial \\bV_{ij}} =  \\left( \\frac{\\partial \\mathcal{L}^{(n)}}{\\partial \\bh} \\right)^T \\frac{\\partial \\bh}{\\partial \\bV_{ij}} = {\\mathbf{\\delta}^h}^T \\begin{bmatrix} \\frac { \\partial \\bh_{ 1 } }{ \\partial \\bV_{ ij } }  \\\\ \\vdots  \\\\ \\frac { \\partial \\bh_L}{ \\partial \\bV_{ ij } }  \\end{bmatrix}= \\sum_l \\mathbf{\\delta}_l^h \\frac { \\partial \\bh_l}{ \\partial \\bV_{ ij } } = \\mathbf{\\delta}_j^h \\bh_j (1-\\bh_j) \\bx_i$\n",
    "\n",
    "\n",
    "$$\\nabla_{\\bV} \\mathcal{L}^{(n)} = \\bx (\\mathbf{\\delta}^h \\odot \\bh \\odot (\\bj - \\bh))^T$$\n",
    "\n",
    "---\n",
    "\n",
    "Note that $\\frac { \\partial \\bh_l}{ \\partial \\ba_{ j } } = \\bh_l (1-\\bh_l) \\frac{\\partial \\bV_{\\cdot l}^T \\bx + \\ba_l}{\\partial \\ba_j} = \\begin{cases} \\bh_l (1-\\bh_l) \\hspace{5mm} \\text{if} \\hspace{2mm} j=l\\\\ 0 \\hspace{5mm} \\text{if} \\hspace{2mm} j \\ne l\\end{cases}$\n",
    "\n",
    "$\\frac{\\partial \\mathcal{L}^{(n)}}{\\partial \\ba_j} =  \\left( \\frac{\\partial \\mathcal{L}^{(n)}}{\\partial \\bh} \\right)^T \\frac{\\partial \\bh}{\\partial \\ba_j} = {\\mathbf{\\delta}^h}^T \\begin{bmatrix} \\frac { \\partial \\bh_{ 1 } }{ \\partial \\ba_{ j } }  \\\\ \\vdots  \\\\ \\frac { \\partial \\bh_L}{ \\partial \\ba_{ j } }  \\end{bmatrix}= \\sum_l \\mathbf{\\delta}_l^h \\frac { \\partial \\bh_l}{ \\partial \\ba_{ j } } = \\mathbf{\\delta}_j^h \\bh_j (1-\\bh_j)$\n",
    "\n",
    "$$\\nabla_{\\ba} \\mathcal{L}^{(n)} = \\mathbf{\\delta}^h \\odot \\bh \\odot (\\bj - \\bh) $$\n",
    "\n",
    "---"
   ]
  },
  {
   "cell_type": "markdown",
   "metadata": {},
   "source": [
    "## 2.2 MAP optimization (10 points)\n",
    "\n",
    "You derived equations for finding the _maximum likelihood_ solution of the parameters. Explain, in a few sentences, how you could extend this approach so that it optimizes towards a _maximum a posteriori_ (MAP) solution of the parameters, with a Gaussian prior on the parameters. "
   ]
  },
  {
   "cell_type": "markdown",
   "metadata": {},
   "source": [
    "#### Answer:\n",
    "\n",
    "Recall that $posterior = \\frac{likelihood \\times prior}{evidence} \\rightarrow \\log posterior = \\log likelihood + \\log prior - \\log evidence.$\n",
    "\n",
    "Therefore, $\\theta_{MAP} = \\text{argmax}_{\\theta} \\log posterior = \\text{argmax}_{\\theta} \\log likelihood + \\log prior$. In this case it would be equivalent to finding the parameters that maximize a function $\\mathcal{L} - \\lambda \\mathcal{R}$, where $\\mathcal{L}$ corresponds to the log-likelihood (as before) and $-\\lambda \\mathcal{R}$ corresponds to the regularization term for a positive hyperparameter $\\lambda$ associated with the parameters of the prior."
   ]
  },
  {
   "cell_type": "markdown",
   "metadata": {},
   "source": [
    "## 2.3. Implement and train a MLP (15 points)\n",
    "\n",
    "Implement a MLP model with a single hidden layer, and code to train the model."
   ]
  },
  {
   "cell_type": "code",
   "execution_count": 9,
   "metadata": {
    "collapsed": true
   },
   "outputs": [],
   "source": [
    "from scipy.special import expit\n",
    "\n",
    "def mlp_gradient(x,t,W,b,V,a):\n",
    "    \n",
    "    h = expit(np.dot(V.T,x) + a)\n",
    "    lq = np.dot(W.T,h) + b\n",
    "    Z = sum(np.exp(lq))\n",
    "    \n",
    "    delta_q = - np.exp(lq)/Z\n",
    "    delta_q[t] += 1\n",
    "    \n",
    "    delta_h = dot(W,delta_q)\n",
    "    \n",
    "    grad_b = delta_q\n",
    "    grad_W = dot(h,delta_q.T)\n",
    "    \n",
    "    grad_a = delta_h * h * (ones(shape(h)) - h)\n",
    "    grad_V = dot(x,grad_a.T)\n",
    "    \n",
    "    return grad_W, grad_b, grad_V, grad_a\n",
    "\n",
    "def mlp_sgd_iter(x_train, t_train, W, b, V, a, eta):\n",
    "    N, M = shape(x_train)\n",
    "    perm = np.random.permutation(N)\n",
    "    for ix in perm:\n",
    "        x = reshape(x_train[ix],(M,-1))\n",
    "        t = t_train[ix]\n",
    "        grad_W, grad_b, grad_V, grad_a = mlp_gradient(x, t, W, b, V, a)\n",
    "        W += eta * grad_W\n",
    "        b += eta * grad_b\n",
    "        V += eta * grad_V\n",
    "        a += eta * grad_a\n",
    "    return W, b, V, a"
   ]
  },
  {
   "cell_type": "code",
   "execution_count": 10,
   "metadata": {
    "collapsed": false
   },
   "outputs": [
    {
     "name": "stdout",
     "output_type": "stream",
     "text": [
      "Iter: 0 Error: 89.3%\n",
      "Iter: 1 Error: 4.8%\n",
      "Iter: 2 Error: 3.086%\n",
      "Iter: 3 Error: 2.284%\n",
      "Iter: 4 Error: 1.432%\n",
      "Iter: 5 Error: 1.104%\n",
      "Iter: 6 Error: 0.742%\n",
      "Iter: 7 Error: 0.482%\n",
      "Iter: 8 Error: 0.354%\n",
      "Iter: 9 Error: 0.136%\n",
      "Iter: 10 Error: 0.036%\n",
      "Iter: 11 Error: 0.026%\n",
      "Iter: 12 Error: 0.008%\n",
      "Iter: 13 Error: 0.004%\n",
      "Iter: 14 Error: 0.002%\n"
     ]
    },
    {
     "data": {
      "image/png": "[encoded data removed]",
      "text/plain": [
       "<matplotlib.figure.Figure at 0x7f3ab573c210>"
      ]
     },
     "metadata": {},
     "output_type": "display_data"
    }
   ],
   "source": [
    "def mlp_class(x,t,W,b,V,a):\n",
    "    h = expit(np.dot(V.T,x) + a)\n",
    "    lq = np.dot(W.T,h) + b\n",
    "    Z = sum(np.exp(lq))\n",
    "    offset = max(lq)\n",
    "    lZ = offset  + log(sum(np.exp(lq - ones(shape(lq))*offset)))\n",
    "    lp = lq - ones(shape(lq))*log(Z)\n",
    "    return argmax(lp)\n",
    "\n",
    "\n",
    "def mlp_pred_iter(x_set, t_set, W, b, V, a):\n",
    "    N_set, M = shape(x_set)\n",
    "    misclass = 0\n",
    "    for ix in range(N_set):\n",
    "        x = reshape(x_set[ix],(M,-1))\n",
    "        t = t_set[ix]\n",
    "        misclass += mlp_class(x,t,W,b,V,a) != t\n",
    "    return misclass*1.0/N_set\n",
    "\n",
    "\n",
    "N_tr, M = shape(x_train)\n",
    "N_vl, M = shape(x_test)\n",
    "\n",
    "K = 10\n",
    "L = 200\n",
    "max_iter = 15\n",
    "\n",
    "W_mlp = np.random.normal(0,0.2,(L, K))\n",
    "b_mlp = np.random.normal(0,0.2,(K, 1))\n",
    "V_mlp = 2*np.random.random_sample((M, L)) - 1\n",
    "a_mlp = 2*np.random.random_sample((L, 1)) - 1\n",
    "\n",
    "E_tr = []\n",
    "\n",
    "\n",
    "for it in range(max_iter):\n",
    "    eta = 0.1\n",
    "    err = mlp_pred_iter(x_train, t_train, W_mlp, b_mlp, V_mlp, a_mlp)\n",
    "    print ('Iter: ' + str(it) + ' Error: '+ str(100*err) + '%')\n",
    "    E_tr.append(err)\n",
    "    W_mlp, b_mlp, V_mlp, a_mlp = mlp_sgd_iter(x_train, t_train, W_mlp, b_mlp, V_mlp, a_mlp, eta)\n",
    "\n",
    "plot(range(1,max_iter+1), E_tr, label='Training')\n",
    "xlabel('Iteration')\n",
    "ylabel('Error')\n",
    "legend(loc=1)\n",
    "show()"
   ]
  },
  {
   "cell_type": "markdown",
   "metadata": {},
   "source": [
    "### 2.3.1. Less than 250 misclassifications on the test set (10 bonus points)\n",
    "\n",
    "You receive an additional 10 bonus points if you manage to train a model with very high accuracy: at most 2.5% misclasified digits on the test set. Note that the test set contains 10000 digits, so you model should misclassify at most 250 digits. This should be achievable with a MLP model with one hidden layer. See results of various models at : `http://yann.lecun.com/exdb/mnist/index.html`. To reach such a low accuracy, you probably need to have a very high $L$ (many hidden units), probably $L > 200$, and apply a strong Gaussian prior on the weights. In this case you are allowed to use the validation set for training.\n",
    "You are allowed to add additional layers, and use convolutional networks, although that is probably not required to reach 2.5% misclassifications."
   ]
  },
  {
   "cell_type": "code",
   "execution_count": 17,
   "metadata": {
    "collapsed": false
   },
   "outputs": [
    {
     "name": "stdout",
     "output_type": "stream",
     "text": [
      "Test error: 2.33%\n"
     ]
    }
   ],
   "source": [
    "err = mlp_pred_iter(x_test, t_test, W_mlp, b_mlp, V_mlp, a_mlp)\n",
    "print ('Test error: '+ str(100*err)+'%')"
   ]
  },
  {
   "cell_type": "code",
   "execution_count": null,
   "metadata": {
    "collapsed": true
   },
   "outputs": [],
   "source": []
  }
 ],
 "metadata": {
  "kernelspec": {
   "display_name": "Python [Root]",
   "language": "python",
   "name": "Python [Root]"
  },
  "language_info": {
   "codemirror_mode": {
    "name": "ipython",
    "version": 2
   },
   "file_extension": ".py",
   "mimetype": "text/x-python",
   "name": "python",
   "nbconvert_exporter": "python",
   "pygments_lexer": "ipython2",
   "version": "2.7.12"
  }
 },
 "nbformat": 4,
 "nbformat_minor": 0
}
